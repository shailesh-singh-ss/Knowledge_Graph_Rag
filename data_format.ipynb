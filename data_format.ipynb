{
 "cells": [
  {
   "cell_type": "markdown",
   "metadata": {},
   "source": [
    "Function to format the mayoclinicdata in requried format"
   ]
  },
  {
   "cell_type": "code",
   "execution_count": null,
   "metadata": {},
   "outputs": [],
   "source": [
    "import pandas as pd\n",
    "import json\n",
    "import re\n",
    "\n",
    "# Load the data into a pandas DataFrame\n",
    "df = pd.read_csv(\"data/1-100.csv\")\n",
    "\n",
    "\n",
    "# Function to clean special characters\n",
    "def clean_text(text):\n",
    "    if isinstance(text, str):\n",
    "        return text.replace('\"', '').replace(\"'\", \"\").replace('[', '').replace(']', '').replace('\\u2014', ' ').strip()\n",
    "    return text\n",
    "\n",
    "# Apply the cleaning function to each relevant column\n",
    "df['Symptoms'] = df['Symptoms'].apply(clean_text)\n",
    "df['Overview'] = df['Overview'].apply(clean_text)\n",
    "df['Causes'] = df['Causes'].apply(clean_text)\n",
    "df['Risk factors'] = df['Risk factors'].apply(clean_text)\n",
    "df['Treatment'] = df['Treatment'].apply(clean_text)\n",
    "\n",
    "# Combine the cleaned columns\n",
    "df['About'] = df.apply(\n",
    "    lambda row: json.dumps({\n",
    "        'symptoms': row[\"Symptoms\"],\n",
    "        'overview': row[\"Overview\"],\n",
    "        'causes': row[\"Causes\"],\n",
    "        'risk factors': row[\"Risk factors\"],\n",
    "        'treatment': row[\"Treatment\"]\n",
    "        \n",
    "    }).replace('\\\"', '\\''),  # Removes escaped quotes if any remain,\n",
    "    axis=1\n",
    ")\n",
    "\n",
    "df = df.drop(columns=['Symptoms'])\n",
    "df = df.drop(columns=['Overview'])\n",
    "df = df.drop(columns=['Causes'])\n",
    "df = df.drop(columns=['Risk factors'])\n",
    "df = df.drop(columns=['Treatment'])\n",
    "\n",
    "print(df)\n",
    "# Write the cleaned data back to a file\n",
    "df.to_csv(\"data/1-100.csv\", index=False)\n"
   ]
  }
 ],
 "metadata": {
  "kernelspec": {
   "display_name": "myenv",
   "language": "python",
   "name": "python3"
  },
  "language_info": {
   "codemirror_mode": {
    "name": "ipython",
    "version": 3
   },
   "file_extension": ".py",
   "mimetype": "text/x-python",
   "name": "python",
   "nbconvert_exporter": "python",
   "pygments_lexer": "ipython3",
   "version": "3.12.3"
  }
 },
 "nbformat": 4,
 "nbformat_minor": 2
}
